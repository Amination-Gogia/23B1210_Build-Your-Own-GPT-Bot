{
  "cells": [
    {
      "cell_type": "code",
      "source": [
        "from IPython import get_ipython\n",
        "from IPython.display import display\n",
        "# %%\n",
        "!pip install numpy\n",
        "!pip install scipy\n",
        "!pip install gensim\n",
        "# %%\n",
        "import gensim\n",
        "# %%"
      ],
      "metadata": {
        "colab": {
          "base_uri": "https://localhost:8080/"
        },
        "id": "gigo0kAKTLSt",
        "outputId": "8dbe0836-04d7-438e-b9fb-3a37d89dd0b0"
      },
      "execution_count": 1,
      "outputs": [
        {
          "output_type": "stream",
          "name": "stdout",
          "text": [
            "Requirement already satisfied: numpy in /usr/local/lib/python3.11/dist-packages (1.26.4)\n",
            "Requirement already satisfied: scipy in /usr/local/lib/python3.11/dist-packages (1.13.1)\n",
            "Requirement already satisfied: numpy<2.3,>=1.22.4 in /usr/local/lib/python3.11/dist-packages (from scipy) (1.26.4)\n",
            "Requirement already satisfied: gensim in /usr/local/lib/python3.11/dist-packages (4.3.3)\n",
            "Requirement already satisfied: numpy<2.0,>=1.18.5 in /usr/local/lib/python3.11/dist-packages (from gensim) (1.26.4)\n",
            "Requirement already satisfied: scipy<1.14.0,>=1.7.0 in /usr/local/lib/python3.11/dist-packages (from gensim) (1.13.1)\n",
            "Requirement already satisfied: smart-open>=1.8.1 in /usr/local/lib/python3.11/dist-packages (from gensim) (7.1.0)\n",
            "Requirement already satisfied: wrapt in /usr/local/lib/python3.11/dist-packages (from smart-open>=1.8.1->gensim) (1.17.2)\n"
          ]
        }
      ]
    },
    {
      "cell_type": "code",
      "source": [
        "from gensim.models import Word2Vec, KeyedVectors"
      ],
      "metadata": {
        "id": "EmqREj8xTS3b"
      },
      "execution_count": 2,
      "outputs": []
    },
    {
      "cell_type": "code",
      "source": [
        "import gensim.downloader as api\n",
        "\n",
        "wv = api.load('word2vec-google-news-300')"
      ],
      "metadata": {
        "colab": {
          "base_uri": "https://localhost:8080/"
        },
        "id": "hjx1D85NTeDE",
        "outputId": "9886485b-ecad-4e93-b1e0-69e4783e79c8"
      },
      "execution_count": 3,
      "outputs": [
        {
          "output_type": "stream",
          "name": "stdout",
          "text": [
            "[==================================================] 100.0% 1662.8/1662.8MB downloaded\n"
          ]
        }
      ]
    },
    {
      "cell_type": "code",
      "source": [
        "wv['king']"
      ],
      "metadata": {
        "colab": {
          "base_uri": "https://localhost:8080/"
        },
        "id": "DGEAFxAQWroG",
        "outputId": "06fa618c-2c97-450f-a593-4185881765a0"
      },
      "execution_count": 4,
      "outputs": [
        {
          "output_type": "execute_result",
          "data": {
            "text/plain": [
              "array([ 1.25976562e-01,  2.97851562e-02,  8.60595703e-03,  1.39648438e-01,\n",
              "       -2.56347656e-02, -3.61328125e-02,  1.11816406e-01, -1.98242188e-01,\n",
              "        5.12695312e-02,  3.63281250e-01, -2.42187500e-01, -3.02734375e-01,\n",
              "       -1.77734375e-01, -2.49023438e-02, -1.67968750e-01, -1.69921875e-01,\n",
              "        3.46679688e-02,  5.21850586e-03,  4.63867188e-02,  1.28906250e-01,\n",
              "        1.36718750e-01,  1.12792969e-01,  5.95703125e-02,  1.36718750e-01,\n",
              "        1.01074219e-01, -1.76757812e-01, -2.51953125e-01,  5.98144531e-02,\n",
              "        3.41796875e-01, -3.11279297e-02,  1.04492188e-01,  6.17675781e-02,\n",
              "        1.24511719e-01,  4.00390625e-01, -3.22265625e-01,  8.39843750e-02,\n",
              "        3.90625000e-02,  5.85937500e-03,  7.03125000e-02,  1.72851562e-01,\n",
              "        1.38671875e-01, -2.31445312e-01,  2.83203125e-01,  1.42578125e-01,\n",
              "        3.41796875e-01, -2.39257812e-02, -1.09863281e-01,  3.32031250e-02,\n",
              "       -5.46875000e-02,  1.53198242e-02, -1.62109375e-01,  1.58203125e-01,\n",
              "       -2.59765625e-01,  2.01416016e-02, -1.63085938e-01,  1.35803223e-03,\n",
              "       -1.44531250e-01, -5.68847656e-02,  4.29687500e-02, -2.46582031e-02,\n",
              "        1.85546875e-01,  4.47265625e-01,  9.58251953e-03,  1.31835938e-01,\n",
              "        9.86328125e-02, -1.85546875e-01, -1.00097656e-01, -1.33789062e-01,\n",
              "       -1.25000000e-01,  2.83203125e-01,  1.23046875e-01,  5.32226562e-02,\n",
              "       -1.77734375e-01,  8.59375000e-02, -2.18505859e-02,  2.05078125e-02,\n",
              "       -1.39648438e-01,  2.51464844e-02,  1.38671875e-01, -1.05468750e-01,\n",
              "        1.38671875e-01,  8.88671875e-02, -7.51953125e-02, -2.13623047e-02,\n",
              "        1.72851562e-01,  4.63867188e-02, -2.65625000e-01,  8.91113281e-03,\n",
              "        1.49414062e-01,  3.78417969e-02,  2.38281250e-01, -1.24511719e-01,\n",
              "       -2.17773438e-01, -1.81640625e-01,  2.97851562e-02,  5.71289062e-02,\n",
              "       -2.89306641e-02,  1.24511719e-02,  9.66796875e-02, -2.31445312e-01,\n",
              "        5.81054688e-02,  6.68945312e-02,  7.08007812e-02, -3.08593750e-01,\n",
              "       -2.14843750e-01,  1.45507812e-01, -4.27734375e-01, -9.39941406e-03,\n",
              "        1.54296875e-01, -7.66601562e-02,  2.89062500e-01,  2.77343750e-01,\n",
              "       -4.86373901e-04, -1.36718750e-01,  3.24218750e-01, -2.46093750e-01,\n",
              "       -3.03649902e-03, -2.11914062e-01,  1.25000000e-01,  2.69531250e-01,\n",
              "        2.04101562e-01,  8.25195312e-02, -2.01171875e-01, -1.60156250e-01,\n",
              "       -3.78417969e-02, -1.20117188e-01,  1.15234375e-01, -4.10156250e-02,\n",
              "       -3.95507812e-02, -8.98437500e-02,  6.34765625e-03,  2.03125000e-01,\n",
              "        1.86523438e-01,  2.73437500e-01,  6.29882812e-02,  1.41601562e-01,\n",
              "       -9.81445312e-02,  1.38671875e-01,  1.82617188e-01,  1.73828125e-01,\n",
              "        1.73828125e-01, -2.37304688e-01,  1.78710938e-01,  6.34765625e-02,\n",
              "        2.36328125e-01, -2.08984375e-01,  8.74023438e-02, -1.66015625e-01,\n",
              "       -7.91015625e-02,  2.43164062e-01, -8.88671875e-02,  1.26953125e-01,\n",
              "       -2.16796875e-01, -1.73828125e-01, -3.59375000e-01, -8.25195312e-02,\n",
              "       -6.49414062e-02,  5.07812500e-02,  1.35742188e-01, -7.47070312e-02,\n",
              "       -1.64062500e-01,  1.15356445e-02,  4.45312500e-01, -2.15820312e-01,\n",
              "       -1.11328125e-01, -1.92382812e-01,  1.70898438e-01, -1.25000000e-01,\n",
              "        2.65502930e-03,  1.92382812e-01, -1.74804688e-01,  1.39648438e-01,\n",
              "        2.92968750e-01,  1.13281250e-01,  5.95703125e-02, -6.39648438e-02,\n",
              "        9.96093750e-02, -2.72216797e-02,  1.96533203e-02,  4.27246094e-02,\n",
              "       -2.46093750e-01,  6.39648438e-02, -2.25585938e-01, -1.68945312e-01,\n",
              "        2.89916992e-03,  8.20312500e-02,  3.41796875e-01,  4.32128906e-02,\n",
              "        1.32812500e-01,  1.42578125e-01,  7.61718750e-02,  5.98144531e-02,\n",
              "       -1.19140625e-01,  2.74658203e-03, -6.29882812e-02, -2.72216797e-02,\n",
              "       -4.82177734e-03, -8.20312500e-02, -2.49023438e-02, -4.00390625e-01,\n",
              "       -1.06933594e-01,  4.24804688e-02,  7.76367188e-02, -1.16699219e-01,\n",
              "        7.37304688e-02, -9.22851562e-02,  1.07910156e-01,  1.58203125e-01,\n",
              "        4.24804688e-02,  1.26953125e-01,  3.61328125e-02,  2.67578125e-01,\n",
              "       -1.01074219e-01, -3.02734375e-01, -5.76171875e-02,  5.05371094e-02,\n",
              "        5.26428223e-04, -2.07031250e-01, -1.38671875e-01, -8.97216797e-03,\n",
              "       -2.78320312e-02, -1.41601562e-01,  2.07031250e-01, -1.58203125e-01,\n",
              "        1.27929688e-01,  1.49414062e-01, -2.24609375e-02, -8.44726562e-02,\n",
              "        1.22558594e-01,  2.15820312e-01, -2.13867188e-01, -3.12500000e-01,\n",
              "       -3.73046875e-01,  4.08935547e-03,  1.07421875e-01,  1.06933594e-01,\n",
              "        7.32421875e-02,  8.97216797e-03, -3.88183594e-02, -1.29882812e-01,\n",
              "        1.49414062e-01, -2.14843750e-01, -1.83868408e-03,  9.91210938e-02,\n",
              "        1.57226562e-01, -1.14257812e-01, -2.05078125e-01,  9.91210938e-02,\n",
              "        3.69140625e-01, -1.97265625e-01,  3.54003906e-02,  1.09375000e-01,\n",
              "        1.31835938e-01,  1.66992188e-01,  2.35351562e-01,  1.04980469e-01,\n",
              "       -4.96093750e-01, -1.64062500e-01, -1.56250000e-01, -5.22460938e-02,\n",
              "        1.03027344e-01,  2.43164062e-01, -1.88476562e-01,  5.07812500e-02,\n",
              "       -9.37500000e-02, -6.68945312e-02,  2.27050781e-02,  7.61718750e-02,\n",
              "        2.89062500e-01,  3.10546875e-01, -5.37109375e-02,  2.28515625e-01,\n",
              "        2.51464844e-02,  6.78710938e-02, -1.21093750e-01, -2.15820312e-01,\n",
              "       -2.73437500e-01, -3.07617188e-02, -3.37890625e-01,  1.53320312e-01,\n",
              "        2.33398438e-01, -2.08007812e-01,  3.73046875e-01,  8.20312500e-02,\n",
              "        2.51953125e-01, -7.61718750e-02, -4.66308594e-02, -2.23388672e-02,\n",
              "        2.99072266e-02, -5.93261719e-02, -4.66918945e-03, -2.44140625e-01,\n",
              "       -2.09960938e-01, -2.87109375e-01, -4.54101562e-02, -1.77734375e-01,\n",
              "       -2.79296875e-01, -8.59375000e-02,  9.13085938e-02,  2.51953125e-01],\n",
              "      dtype=float32)"
            ]
          },
          "metadata": {},
          "execution_count": 4
        }
      ]
    },
    {
      "cell_type": "code",
      "source": [
        "wv.most_similar(wv['king'] - wv['man'] + wv[\"woman\"])"
      ],
      "metadata": {
        "colab": {
          "base_uri": "https://localhost:8080/"
        },
        "id": "BHzxhei2YDzh",
        "outputId": "f4a2a254-8b54-4ba8-b55e-ce37a361e599"
      },
      "execution_count": 5,
      "outputs": [
        {
          "output_type": "execute_result",
          "data": {
            "text/plain": [
              "[('king', 0.8449392318725586),\n",
              " ('queen', 0.7300517559051514),\n",
              " ('monarch', 0.645466148853302),\n",
              " ('princess', 0.6156251430511475),\n",
              " ('crown_prince', 0.5818676352500916),\n",
              " ('prince', 0.5777117609977722),\n",
              " ('kings', 0.5613663792610168),\n",
              " ('sultan', 0.5376775860786438),\n",
              " ('Queen_Consort', 0.5344247817993164),\n",
              " ('queens', 0.5289887189865112)]"
            ]
          },
          "metadata": {},
          "execution_count": 5
        }
      ]
    },
    {
      "cell_type": "code",
      "source": [
        "wv.similarity('king', 'queen')"
      ],
      "metadata": {
        "colab": {
          "base_uri": "https://localhost:8080/"
        },
        "id": "-YKpMuw7YFvw",
        "outputId": "c8d9805b-d981-4520-c2cd-8bdab940925d"
      },
      "execution_count": 6,
      "outputs": [
        {
          "output_type": "execute_result",
          "data": {
            "text/plain": [
              "0.6510957"
            ]
          },
          "metadata": {},
          "execution_count": 6
        }
      ]
    },
    {
      "cell_type": "code",
      "source": [
        "wv.similarity('boy', 'girl')"
      ],
      "metadata": {
        "colab": {
          "base_uri": "https://localhost:8080/"
        },
        "id": "eG94bntMYa0Q",
        "outputId": "60a391f4-6067-49d9-eb46-f403efd03837"
      },
      "execution_count": 7,
      "outputs": [
        {
          "output_type": "execute_result",
          "data": {
            "text/plain": [
              "0.8543272"
            ]
          },
          "metadata": {},
          "execution_count": 7
        }
      ]
    },
    {
      "cell_type": "code",
      "source": [
        "v1 = wv.get_mean_vector(\"Coding is easy\")"
      ],
      "metadata": {
        "id": "DS8pyDE_Ydpw"
      },
      "execution_count": 8,
      "outputs": []
    },
    {
      "cell_type": "code",
      "source": [
        "v1"
      ],
      "metadata": {
        "colab": {
          "base_uri": "https://localhost:8080/"
        },
        "id": "SCEQEvOZunJV",
        "outputId": "64afd5ca-f35e-46b8-f1b7-58f4858295bf"
      },
      "execution_count": 9,
      "outputs": [
        {
          "output_type": "execute_result",
          "data": {
            "text/plain": [
              "array([-7.29274228e-02,  2.67139655e-02,  2.50914153e-02,  5.97253777e-02,\n",
              "       -1.38727305e-02,  9.98718169e-05, -2.03979108e-02, -1.62205379e-02,\n",
              "       -1.51981562e-02,  1.68064283e-03, -2.81474125e-02, -2.85657048e-02,\n",
              "       -5.92553653e-02,  3.09662987e-03, -3.77666019e-02,  2.13866346e-02,\n",
              "        3.98020335e-02,  5.68259023e-02, -2.46257358e-03,  3.51886079e-03,\n",
              "       -9.00317430e-02,  9.98206623e-03,  3.36471163e-02,  1.41984792e-02,\n",
              "       -2.82699279e-02,  6.59476221e-03, -8.21231306e-02,  1.85320526e-02,\n",
              "       -3.24769877e-02, -6.24278607e-03,  3.93750472e-03,  2.81566512e-02,\n",
              "       -2.47788969e-02, -3.22544649e-02, -5.27245291e-02,  4.47620004e-02,\n",
              "       -7.52629191e-02,  5.91003262e-02, -2.58576591e-02,  3.54142934e-02,\n",
              "       -2.79923864e-02, -1.07849892e-02,  3.53358723e-02,  4.45340388e-02,\n",
              "        2.34247036e-02,  7.29759363e-03, -1.19098369e-02, -6.56589940e-02,\n",
              "       -1.40535058e-02,  3.63401473e-02, -6.11099154e-02,  8.13121274e-02,\n",
              "        1.18302787e-02,  9.45876092e-02, -4.91131144e-03,  6.18228577e-02,\n",
              "       -5.93856946e-02, -3.04718670e-02,  3.82877514e-03, -4.42103632e-02,\n",
              "       -4.59959768e-02, -1.99586507e-02, -7.46949688e-02, -1.31731639e-02,\n",
              "       -6.89451583e-03, -8.00062940e-02, -3.07305809e-02,  2.97472477e-02,\n",
              "       -3.11207585e-02,  6.48304261e-03,  1.48973074e-02, -2.82086674e-02,\n",
              "        9.32009239e-03,  1.78188935e-03, -1.70254963e-03,  1.99187617e-03,\n",
              "        5.23151122e-02,  4.21334477e-03,  2.01361310e-02, -2.53854934e-02,\n",
              "       -4.56356369e-02,  2.66064308e-04, -2.56805099e-03,  1.58676808e-03,\n",
              "        3.82618755e-02,  2.08542012e-02, -2.11356003e-02,  9.10300240e-02,\n",
              "       -1.37340715e-02,  1.89306717e-02,  2.16105860e-02,  9.46618617e-03,\n",
              "       -7.07151557e-05, -3.42494249e-02,  3.17663625e-02,  3.82797420e-02,\n",
              "       -3.11446860e-02,  3.01887505e-02,  8.08471292e-02,  6.41626446e-03,\n",
              "       -1.10428035e-02, -4.43053665e-03, -2.31844671e-02, -9.26507637e-03,\n",
              "       -2.16886699e-02,  5.88415265e-02, -2.84713190e-02,  4.03129831e-02,\n",
              "       -1.16281668e-02, -6.96726283e-03, -6.11159801e-02, -7.03638643e-02,\n",
              "        1.54513319e-03, -3.90158109e-02,  3.60927545e-02,  6.52455389e-02,\n",
              "        2.92490534e-02, -9.08377522e-04, -2.18805173e-04, -2.21185721e-02,\n",
              "        4.89977337e-02,  3.30769061e-03, -1.88781936e-02, -1.21358922e-02,\n",
              "        4.01571803e-02, -5.34641594e-02, -3.47577669e-02,  1.31218031e-03,\n",
              "        4.08170633e-02,  4.58493941e-02, -5.26427254e-02, -4.19361331e-03,\n",
              "       -3.98711301e-02,  2.45895633e-03, -5.18442430e-02,  3.11965328e-02,\n",
              "       -8.41463916e-03,  1.57145038e-02,  9.25783440e-02,  4.16504405e-02,\n",
              "        6.90937042e-02, -3.80644314e-02,  6.81540370e-03, -8.80445447e-03,\n",
              "       -5.35391737e-03, -4.24502380e-02, -1.60918757e-02,  6.05490580e-02,\n",
              "       -1.70377754e-02,  6.94953045e-03,  4.14948761e-02, -1.05536006e-01,\n",
              "       -1.45002929e-02, -4.09801817e-03, -5.29133305e-02, -2.47542933e-02,\n",
              "        2.10650936e-02,  6.76953569e-02,  1.49077061e-03, -6.15227642e-03,\n",
              "        2.13361848e-02,  1.53942173e-02, -2.32082303e-03,  3.38212848e-02,\n",
              "       -1.50872525e-02, -3.80883031e-02,  5.75862750e-02,  1.77931450e-02,\n",
              "       -4.36016954e-02,  2.67364383e-02, -5.11947423e-02, -3.92382778e-02,\n",
              "       -1.06099516e-03, -4.16407846e-02, -1.15177187e-03,  1.04494572e-01,\n",
              "        9.34874564e-02, -9.38947871e-02, -2.17576860e-03, -3.84518243e-02,\n",
              "        2.40791868e-02,  3.00287822e-04,  1.51855322e-02, -5.85483480e-03,\n",
              "        7.61364005e-04,  2.11350601e-02, -1.35753667e-02,  2.18423903e-02,\n",
              "       -7.12226517e-03,  7.55947130e-03,  4.23806347e-02, -1.00359954e-02,\n",
              "       -9.91790742e-02, -1.92875993e-02,  3.74676846e-02,  2.43313424e-02,\n",
              "       -3.09564043e-02,  4.57501598e-03,  2.33573243e-02, -5.68743609e-02,\n",
              "       -4.03451286e-02,  2.03532875e-02, -6.64675906e-02, -3.46922092e-02,\n",
              "        1.56649034e-02, -1.29726417e-02, -1.30496081e-02,  3.02431285e-02,\n",
              "       -2.51863971e-02,  7.16697574e-02,  5.37206493e-02,  3.04153543e-02,\n",
              "       -5.41376509e-02,  2.22535655e-02, -3.10209282e-02,  1.98584758e-02,\n",
              "        6.86734393e-02, -4.17052470e-02, -7.36880973e-02,  9.92329296e-05,\n",
              "       -5.00626229e-02,  6.76473156e-02,  2.80460007e-02,  5.42091113e-03,\n",
              "        1.69397444e-02, -2.95497887e-02, -1.63237238e-03,  2.56513711e-02,\n",
              "        9.38006397e-03, -4.13294993e-02,  1.77090131e-02, -2.43952405e-02,\n",
              "       -2.84873545e-02,  7.04881130e-03,  2.38752346e-02,  1.06805684e-02,\n",
              "        2.77469754e-02,  2.50953417e-02,  3.39518227e-02,  4.67499755e-02,\n",
              "        3.63716483e-02,  1.89142991e-02,  8.43806341e-02, -3.14086825e-02,\n",
              "       -2.85179913e-03,  2.46998891e-02, -5.65432161e-02,  5.26806824e-02,\n",
              "        2.02907082e-02, -6.93059433e-03,  1.07617001e-03,  1.88243166e-02,\n",
              "        1.85812879e-02,  4.32212502e-02,  1.79806899e-04, -4.30678949e-02,\n",
              "        4.36472567e-03,  1.28646130e-02,  1.13983247e-02, -2.91533992e-02,\n",
              "        6.02701157e-02, -1.17067015e-02,  4.82403971e-02, -1.03434231e-02,\n",
              "       -2.07379814e-02,  1.93017107e-02, -1.27151310e-02,  7.69819738e-03,\n",
              "       -1.43867759e-02, -1.98511407e-02, -6.09754361e-02, -1.62762180e-02,\n",
              "        1.77829135e-02, -1.47238346e-02,  3.02289445e-02, -4.01686467e-02,\n",
              "       -7.36031905e-02, -5.83287850e-02, -5.00952564e-02,  2.57109087e-02,\n",
              "       -3.68752964e-02,  4.03665528e-02, -5.07863564e-03, -1.07314845e-03,\n",
              "       -8.32766853e-03,  1.93219800e-02,  2.40693553e-05, -1.64452102e-02,\n",
              "       -3.33076678e-02, -3.84903811e-02,  2.60278154e-02,  9.59467515e-03,\n",
              "       -1.96511466e-02,  3.97441238e-02, -2.08992139e-02, -4.93100248e-02,\n",
              "       -4.10209633e-02, -4.72775428e-03, -3.24510336e-02,  6.22898787e-02],\n",
              "      dtype=float32)"
            ]
          },
          "metadata": {},
          "execution_count": 9
        }
      ]
    },
    {
      "cell_type": "code",
      "source": [
        "wv.most_similar((wv[\"Coding\"] + wv[\"is\"] + wv[\"easy\"])/3)"
      ],
      "metadata": {
        "colab": {
          "base_uri": "https://localhost:8080/"
        },
        "id": "Pw4_rzqeuqrH",
        "outputId": "a0b0ab85-a760-4cf9-a5f0-77b0dd7e04bd"
      },
      "execution_count": 10,
      "outputs": [
        {
          "output_type": "execute_result",
          "data": {
            "text/plain": [
              "[('Coding', 0.7905592918395996),\n",
              " ('easy', 0.6257054209709167),\n",
              " ('Macro_Recorder', 0.5830498933792114),\n",
              " ('SCRAWL', 0.537582278251648),\n",
              " ('decision_Muaitau', 0.5302850008010864),\n",
              " ('Procedure_Documentation', 0.5215912461280823),\n",
              " ('Concatenation', 0.512831449508667),\n",
              " ('intuitive_graphical_interface', 0.5094452500343323),\n",
              " ('XML_XSLT', 0.5012803077697754),\n",
              " ('Video_Tutorial', 0.5012006163597107)]"
            ]
          },
          "metadata": {},
          "execution_count": 10
        }
      ]
    },
    {
      "cell_type": "code",
      "source": [
        "wv.most_similar(v1)"
      ],
      "metadata": {
        "colab": {
          "base_uri": "https://localhost:8080/"
        },
        "id": "ZvVmr5EXvAQW",
        "outputId": "32b8ad67-ebfd-4ef1-d7a7-f038f75350ac"
      },
      "execution_count": 11,
      "outputs": [
        {
          "output_type": "execute_result",
          "data": {
            "text/plain": [
              "[('o', 0.7625612616539001),\n",
              " ('i', 0.7376353144645691),\n",
              " ('f', 0.6978635787963867),\n",
              " ('ts', 0.69757479429245),\n",
              " ('y', 0.6938912868499756),\n",
              " ('h', 0.6932911276817322),\n",
              " ('d', 0.6864964962005615),\n",
              " ('ý_Q', 0.6799817681312561),\n",
              " ('b', 0.6796086430549622),\n",
              " ('ar', 0.6724964380264282)]"
            ]
          },
          "metadata": {},
          "execution_count": 11
        }
      ]
    },
    {
      "cell_type": "code",
      "source": [
        "v1 = wv.get_mean_vector(['Coding', 'Is', 'Easy'])"
      ],
      "metadata": {
        "id": "Yiuk3MUGvYvA"
      },
      "execution_count": 12,
      "outputs": []
    },
    {
      "cell_type": "code",
      "source": [
        "wv.most_similar(v1)"
      ],
      "metadata": {
        "colab": {
          "base_uri": "https://localhost:8080/"
        },
        "id": "BpouqwfFvrAl",
        "outputId": "489149bc-8fc4-4196-dd04-2be323f80a01"
      },
      "execution_count": 13,
      "outputs": [
        {
          "output_type": "execute_result",
          "data": {
            "text/plain": [
              "[('Easy', 0.7253142595291138),\n",
              " ('Coding', 0.6593204736709595),\n",
              " ('Is', 0.6532666087150574),\n",
              " ('Gets_Easier', 0.6168235540390015),\n",
              " ('BRIEF_CASE', 0.6156339645385742),\n",
              " ('Needs_Fixing', 0.6113982796669006),\n",
              " ('Treat_Acne', 0.6082923412322998),\n",
              " ('Macro_Recorder', 0.6037728190422058),\n",
              " ('Calorie_Counting', 0.6029793620109558),\n",
              " ('IPhone_Apps', 0.6024599671363831)]"
            ]
          },
          "metadata": {},
          "execution_count": 13
        }
      ]
    },
    {
      "cell_type": "code",
      "source": [
        "v2 = wv.get_mean_vector(\"Programming is easy\")"
      ],
      "metadata": {
        "id": "u1iCq72pnkuz"
      },
      "execution_count": 14,
      "outputs": []
    },
    {
      "cell_type": "code",
      "source": [],
      "metadata": {
        "id": "rZ8nGvCbvqCm"
      },
      "execution_count": 14,
      "outputs": []
    },
    {
      "cell_type": "code",
      "source": [
        "import numpy as np"
      ],
      "metadata": {
        "id": "cLYaSla6oF4v"
      },
      "execution_count": 15,
      "outputs": []
    },
    {
      "cell_type": "code",
      "source": [
        "(v1 @ v2)"
      ],
      "metadata": {
        "colab": {
          "base_uri": "https://localhost:8080/"
        },
        "id": "raQHf77Jn380",
        "outputId": "38a311d3-429b-43aa-e6dd-c117fd716eb8"
      },
      "execution_count": 16,
      "outputs": [
        {
          "output_type": "execute_result",
          "data": {
            "text/plain": [
              "0.10809936"
            ]
          },
          "metadata": {},
          "execution_count": 16
        }
      ]
    },
    {
      "cell_type": "code",
      "source": [
        "np.linalg.norm(v1) * np.linalg.norm(v2)"
      ],
      "metadata": {
        "colab": {
          "base_uri": "https://localhost:8080/"
        },
        "id": "O5L1LQXnn6i3",
        "outputId": "740115af-a596-4b70-b328-b24e68e08300"
      },
      "execution_count": 17,
      "outputs": [
        {
          "output_type": "execute_result",
          "data": {
            "text/plain": [
              "0.44374603"
            ]
          },
          "metadata": {},
          "execution_count": 17
        }
      ]
    },
    {
      "cell_type": "code",
      "source": [
        "(v1 @ v2)/(np.linalg.norm(v1) * np.linalg.norm(v2)) ## Similarity Score"
      ],
      "metadata": {
        "colab": {
          "base_uri": "https://localhost:8080/"
        },
        "id": "6D2iiSLcobu0",
        "outputId": "175a6243-b982-4bb1-ffbf-41c0b28ab095"
      },
      "execution_count": 18,
      "outputs": [
        {
          "output_type": "execute_result",
          "data": {
            "text/plain": [
              "0.24360636"
            ]
          },
          "metadata": {},
          "execution_count": 18
        }
      ]
    },
    {
      "cell_type": "code",
      "source": [
        "def similarity_scorer(sent1, sent2):\n",
        "  ## Wrong: .get_mean_vector() accepts a list of words as argument, not a single sentence string\n",
        "  v1 = wv.get_mean_vector(sent1)\n",
        "  v2 = wv.get_mean_vector(sent2)\n",
        "\n",
        "  return (v1 @ v2)/(np.linalg.norm(v1) * np.linalg.norm(v2))"
      ],
      "metadata": {
        "id": "4TP3W7IXotcb"
      },
      "execution_count": 19,
      "outputs": []
    },
    {
      "cell_type": "code",
      "source": [
        "similarity_scorer(\"Hi Guys\", \"This is not working\")"
      ],
      "metadata": {
        "colab": {
          "base_uri": "https://localhost:8080/"
        },
        "id": "CSVNRqFpo8gY",
        "outputId": "14dd35ae-43f3-4796-a397-6ddadc5c48a8"
      },
      "execution_count": 20,
      "outputs": [
        {
          "output_type": "execute_result",
          "data": {
            "text/plain": [
              "0.8491554"
            ]
          },
          "metadata": {},
          "execution_count": 20
        }
      ]
    },
    {
      "cell_type": "code",
      "source": [
        "similarity_scorer(\"He is honest\", \"He is dishonest\")"
      ],
      "metadata": {
        "colab": {
          "base_uri": "https://localhost:8080/"
        },
        "id": "rRr66mEgpFeB",
        "outputId": "5c6c241d-ea29-448b-ac91-406bbbf668c9"
      },
      "execution_count": 21,
      "outputs": [
        {
          "output_type": "execute_result",
          "data": {
            "text/plain": [
              "0.9908149"
            ]
          },
          "metadata": {},
          "execution_count": 21
        }
      ]
    },
    {
      "cell_type": "code",
      "source": [
        "similarity_scorer(\"This news is negative\", \"This news is positive\")"
      ],
      "metadata": {
        "colab": {
          "base_uri": "https://localhost:8080/"
        },
        "id": "zpbVflDSpXgt",
        "outputId": "d39545fc-12f4-48ef-d0eb-c9ca5162f0a4"
      },
      "execution_count": 22,
      "outputs": [
        {
          "output_type": "execute_result",
          "data": {
            "text/plain": [
              "0.986919"
            ]
          },
          "metadata": {},
          "execution_count": 22
        }
      ]
    },
    {
      "cell_type": "code",
      "source": [
        "similarity_scorer(\"Banana\", \"Vampire\")"
      ],
      "metadata": {
        "colab": {
          "base_uri": "https://localhost:8080/"
        },
        "id": "L-yIywpUppXu",
        "outputId": "bd48d1a9-f750-4a34-dfde-10e512ea1ebc"
      },
      "execution_count": 23,
      "outputs": [
        {
          "output_type": "execute_result",
          "data": {
            "text/plain": [
              "0.5691669"
            ]
          },
          "metadata": {},
          "execution_count": 23
        }
      ]
    },
    {
      "cell_type": "code",
      "source": [
        "wv.similarity('positive', 'negative')"
      ],
      "metadata": {
        "colab": {
          "base_uri": "https://localhost:8080/"
        },
        "id": "tqmhKsiPps3h",
        "outputId": "44fb9e31-ddbf-4978-ea9d-3331747ab6f7"
      },
      "execution_count": 24,
      "outputs": [
        {
          "output_type": "execute_result",
          "data": {
            "text/plain": [
              "0.75869894"
            ]
          },
          "metadata": {},
          "execution_count": 24
        }
      ]
    },
    {
      "cell_type": "code",
      "source": [
        "sent1 = \"The weather is pretty good today, looks like it's going to rain\"\n",
        "sent2 = \"The sky is clear, it's going to be a bright sunny day\""
      ],
      "metadata": {
        "id": "vSGKEeThsNXu"
      },
      "execution_count": 25,
      "outputs": []
    },
    {
      "cell_type": "code",
      "source": [
        "similarity_scorer(sent1, sent2)"
      ],
      "metadata": {
        "colab": {
          "base_uri": "https://localhost:8080/"
        },
        "id": "-nI5GdCMsa4_",
        "outputId": "a428b0ed-a327-4fd6-9ccc-40fbf59f8867"
      },
      "execution_count": 26,
      "outputs": [
        {
          "output_type": "execute_result",
          "data": {
            "text/plain": [
              "0.9882742"
            ]
          },
          "metadata": {},
          "execution_count": 26
        }
      ]
    },
    {
      "cell_type": "code",
      "source": [
        "similarity_scorer('Football', 'Lollipop')"
      ],
      "metadata": {
        "colab": {
          "base_uri": "https://localhost:8080/"
        },
        "id": "rYnYc3E9sw_p",
        "outputId": "816b543b-70a0-4143-8560-c2bf126663f5"
      },
      "execution_count": 27,
      "outputs": [
        {
          "output_type": "execute_result",
          "data": {
            "text/plain": [
              "0.9236613"
            ]
          },
          "metadata": {},
          "execution_count": 27
        }
      ]
    },
    {
      "cell_type": "code",
      "source": [
        "wv.similarity('Football', 'Lollipop')"
      ],
      "metadata": {
        "colab": {
          "base_uri": "https://localhost:8080/"
        },
        "id": "ny-gL1dcsl2X",
        "outputId": "3dd05b43-f714-4834-a8dd-b83d31d257fb"
      },
      "execution_count": 28,
      "outputs": [
        {
          "output_type": "execute_result",
          "data": {
            "text/plain": [
              "0.07335087"
            ]
          },
          "metadata": {},
          "execution_count": 28
        }
      ]
    },
    {
      "cell_type": "code",
      "source": [
        "import nltk"
      ],
      "metadata": {
        "id": "VoQH1fXgp8qU"
      },
      "execution_count": 29,
      "outputs": []
    },
    {
      "cell_type": "code",
      "source": [
        "def similarity_scorer(sent1, sent2):\n",
        "  ## Wrong: .get_mean_vector() accepts a list of words as argument, not a single sentence string\n",
        "  \"\"\"Trying without excluding stopwords\"\"\"\n",
        "  sent1 = nltk.tokenize.wordpunct_tokenize(sent1)\n",
        "  sent2 = nltk.tokenize.wordpunct_tokenize(sent2)\n",
        "  v1 = wv.get_mean_vector(sent1)\n",
        "  v2 = wv.get_mean_vector(sent2)\n",
        "\n",
        "  return (v1 @ v2)/(np.linalg.norm(v1) * np.linalg.norm(v2))"
      ],
      "metadata": {
        "id": "DXOfzu3oqafY"
      },
      "execution_count": 98,
      "outputs": []
    },
    {
      "cell_type": "code",
      "source": [
        "nltk.download('punkt_tab')"
      ],
      "metadata": {
        "colab": {
          "base_uri": "https://localhost:8080/"
        },
        "id": "J6NRefS4xVqC",
        "outputId": "88fc4cbf-6618-4a0b-c8ae-b6f6875f9bdf"
      },
      "execution_count": 31,
      "outputs": [
        {
          "output_type": "stream",
          "name": "stderr",
          "text": [
            "[nltk_data] Downloading package punkt_tab to /root/nltk_data...\n",
            "[nltk_data]   Unzipping tokenizers/punkt_tab.zip.\n"
          ]
        },
        {
          "output_type": "execute_result",
          "data": {
            "text/plain": [
              "True"
            ]
          },
          "metadata": {},
          "execution_count": 31
        }
      ]
    },
    {
      "cell_type": "code",
      "source": [
        "similarity_scorer(sent1, sent2)"
      ],
      "metadata": {
        "colab": {
          "base_uri": "https://localhost:8080/"
        },
        "id": "QcgVVxlexGDW",
        "outputId": "644b4682-23f5-420d-c968-345385ececa5"
      },
      "execution_count": 32,
      "outputs": [
        {
          "output_type": "execute_result",
          "data": {
            "text/plain": [
              "0.8178884"
            ]
          },
          "metadata": {},
          "execution_count": 32
        }
      ]
    },
    {
      "cell_type": "code",
      "source": [
        "similarity_scorer('good', 'bad')"
      ],
      "metadata": {
        "colab": {
          "base_uri": "https://localhost:8080/"
        },
        "id": "3nxr-tYFxIMt",
        "outputId": "557557be-5c82-4df7-eddb-8ab69e0c6a1b"
      },
      "execution_count": 33,
      "outputs": [
        {
          "output_type": "execute_result",
          "data": {
            "text/plain": [
              "0.71900517"
            ]
          },
          "metadata": {},
          "execution_count": 33
        }
      ]
    },
    {
      "cell_type": "code",
      "source": [
        "wv.similarity('good', 'bad')"
      ],
      "metadata": {
        "colab": {
          "base_uri": "https://localhost:8080/"
        },
        "id": "UpXO-E9-xj8L",
        "outputId": "66bd14ec-e324-46b2-9ba3-1634f637271f"
      },
      "execution_count": 34,
      "outputs": [
        {
          "output_type": "execute_result",
          "data": {
            "text/plain": [
              "0.7190051"
            ]
          },
          "metadata": {},
          "execution_count": 34
        }
      ]
    },
    {
      "cell_type": "code",
      "source": [
        "wv.similarity('lollipop', 'football')"
      ],
      "metadata": {
        "colab": {
          "base_uri": "https://localhost:8080/"
        },
        "id": "BqW6f2Xwxnoz",
        "outputId": "082d0b09-8fd0-4c75-cac1-2c694608fa25"
      },
      "execution_count": 35,
      "outputs": [
        {
          "output_type": "execute_result",
          "data": {
            "text/plain": [
              "0.047004707"
            ]
          },
          "metadata": {},
          "execution_count": 35
        }
      ]
    },
    {
      "cell_type": "code",
      "source": [
        "similarity_scorer('lollipop', 'football')"
      ],
      "metadata": {
        "colab": {
          "base_uri": "https://localhost:8080/"
        },
        "id": "j1vblDX5148n",
        "outputId": "17429c65-29d8-4c94-af6e-c55eeb70b6a8"
      },
      "execution_count": 36,
      "outputs": [
        {
          "output_type": "execute_result",
          "data": {
            "text/plain": [
              "0.047004703"
            ]
          },
          "metadata": {},
          "execution_count": 36
        }
      ]
    },
    {
      "cell_type": "code",
      "source": [
        "wv.most_similar(wv['was'] - wv['is'] + wv['now'])"
      ],
      "metadata": {
        "colab": {
          "base_uri": "https://localhost:8080/"
        },
        "id": "2RP-lz1618CJ",
        "outputId": "8617b8cf-f230-4dbd-de87-d3f4c4f32cc6"
      },
      "execution_count": 37,
      "outputs": [
        {
          "output_type": "execute_result",
          "data": {
            "text/plain": [
              "[('had', 0.6511355638504028),\n",
              " ('was', 0.6042149662971497),\n",
              " ('when', 0.558048665523529),\n",
              " ('now', 0.5567997694015503),\n",
              " ('then', 0.5377237796783447),\n",
              " ('initially', 0.5304411053657532),\n",
              " ('since', 0.5275542140007019),\n",
              " ('were', 0.5252968072891235),\n",
              " ('subsequently', 0.5228255391120911),\n",
              " ('got', 0.5176742672920227)]"
            ]
          },
          "metadata": {},
          "execution_count": 37
        }
      ]
    },
    {
      "cell_type": "code",
      "source": [
        "wv.most_similar(wv['apples'] - wv['apple'] + wv['man'])"
      ],
      "metadata": {
        "colab": {
          "base_uri": "https://localhost:8080/"
        },
        "id": "xvzVcOZg2dB0",
        "outputId": "d4b92422-d398-40fc-fe06-591aab477704"
      },
      "execution_count": 38,
      "outputs": [
        {
          "output_type": "execute_result",
          "data": {
            "text/plain": [
              "[('man', 0.663457453250885),\n",
              " ('woman', 0.5028138160705566),\n",
              " ('men', 0.4679829776287079),\n",
              " ('boy', 0.440157413482666),\n",
              " ('tow_truck_driver', 0.41793152689933777),\n",
              " ('teenager', 0.4021068811416626),\n",
              " ('girl', 0.39679667353630066),\n",
              " ('teenage_girl', 0.39555245637893677),\n",
              " ('suspected_purse_snatcher', 0.39330148696899414),\n",
              " ('policeman', 0.3814529478549957)]"
            ]
          },
          "metadata": {},
          "execution_count": 38
        }
      ]
    },
    {
      "cell_type": "code",
      "source": [
        "similarity_scorer('had', 'has')"
      ],
      "metadata": {
        "colab": {
          "base_uri": "https://localhost:8080/"
        },
        "id": "eZioSZR53wmr",
        "outputId": "7b36cb74-7dfb-4d6c-93de-189fa78ab51a"
      },
      "execution_count": 40,
      "outputs": [
        {
          "output_type": "execute_result",
          "data": {
            "text/plain": [
              "0.64118826"
            ]
          },
          "metadata": {},
          "execution_count": 40
        }
      ]
    },
    {
      "cell_type": "code",
      "source": [
        "similarity_scorer('was', 'is')"
      ],
      "metadata": {
        "colab": {
          "base_uri": "https://localhost:8080/"
        },
        "id": "CY__rjAMK_QP",
        "outputId": "1ddc88ae-dbf2-45ad-8287-d3272735cc16"
      },
      "execution_count": 41,
      "outputs": [
        {
          "output_type": "execute_result",
          "data": {
            "text/plain": [
              "0.6549735"
            ]
          },
          "metadata": {},
          "execution_count": 41
        }
      ]
    },
    {
      "cell_type": "code",
      "source": [
        "nltk.download('stopwords')"
      ],
      "metadata": {
        "colab": {
          "base_uri": "https://localhost:8080/"
        },
        "id": "oqs6fUTMLEoa",
        "outputId": "d39c3fa0-bc7c-44bd-f5ab-60ec2f21fd69"
      },
      "execution_count": 42,
      "outputs": [
        {
          "output_type": "stream",
          "name": "stderr",
          "text": [
            "[nltk_data] Downloading package stopwords to /root/nltk_data...\n",
            "[nltk_data]   Unzipping corpora/stopwords.zip.\n"
          ]
        },
        {
          "output_type": "execute_result",
          "data": {
            "text/plain": [
              "True"
            ]
          },
          "metadata": {},
          "execution_count": 42
        }
      ]
    },
    {
      "cell_type": "code",
      "source": [
        "from nltk.corpus import stopwords"
      ],
      "metadata": {
        "id": "V0HaplVbLwA2"
      },
      "execution_count": 43,
      "outputs": []
    },
    {
      "cell_type": "code",
      "source": [
        "stopwords = stopwords.words('english')"
      ],
      "metadata": {
        "id": "7nKL9zDGLpJo"
      },
      "execution_count": 44,
      "outputs": []
    },
    {
      "cell_type": "code",
      "source": [
        "example_para1 = \"\"\"Data-driven decision-making is increasingly essential in today’s world.\n",
        "                Businesses and organizations rely on analytics to uncover patterns, forecast trends, and guide their strategies effectively.\n",
        "                At the same time, ethical considerations around data use are critical to maintaining societal trust.\"\"\""
      ],
      "metadata": {
        "id": "EMxHSBFhLyBJ"
      },
      "execution_count": 45,
      "outputs": []
    },
    {
      "cell_type": "code",
      "source": [
        "example_para2 = \"\"\"Decision-making in the modern era is heavily influenced by the use of data.\n",
        "                Companies employ analytical tools to identify trends, predict outcomes, and optimize their operations.\n",
        "                Nonetheless, the importance of ethical practices in data handling cannot be overstated, as public trust hinges on them.\"\"\""
      ],
      "metadata": {
        "id": "x6vV95S_MVP-"
      },
      "execution_count": 46,
      "outputs": []
    },
    {
      "cell_type": "code",
      "source": [
        "similarity_scorer(example_para1, example_para2)"
      ],
      "metadata": {
        "colab": {
          "base_uri": "https://localhost:8080/"
        },
        "id": "CL-peoJ-MdWR",
        "outputId": "3d417a83-9df4-4f83-d179-a69f970ba511"
      },
      "execution_count": 47,
      "outputs": [
        {
          "output_type": "execute_result",
          "data": {
            "text/plain": [
              "0.9095181"
            ]
          },
          "metadata": {},
          "execution_count": 47
        }
      ]
    },
    {
      "cell_type": "code",
      "source": [
        "example_para3 = \"\"\"Cricket is a game of strategy and skill that captivates millions of fans worldwide.\n",
        "                  The balance between bat and ball, coupled with the unpredictable nature of the sport, keeps audiences on the edge of their seats.\n",
        "                  From the fast-paced excitement of T20 matches to the strategic depth of Test cricket, the game offers something for everyone.\"\"\""
      ],
      "metadata": {
        "id": "ZBwqV__0Mg32"
      },
      "execution_count": 48,
      "outputs": []
    },
    {
      "cell_type": "code",
      "source": [
        "similarity_scorer(example_para1, example_para3)"
      ],
      "metadata": {
        "colab": {
          "base_uri": "https://localhost:8080/"
        },
        "id": "c1o3tQl9MsIu",
        "outputId": "e1984a43-eddf-42bf-ef29-ef34cd95d518"
      },
      "execution_count": 49,
      "outputs": [
        {
          "output_type": "execute_result",
          "data": {
            "text/plain": [
              "0.72571397"
            ]
          },
          "metadata": {},
          "execution_count": 49
        }
      ]
    },
    {
      "cell_type": "code",
      "source": [
        "def similarity_scorer_with_stopwords(sent1, sent2):\n",
        "\n",
        "  sent1 = nltk.tokenize.wordpunct_tokenize(sent1.lower())\n",
        "  sent1 = [word for word in sent1 if word not in set(stopwords)]\n",
        "  # print(sent1)\n",
        "  sent2 = nltk.tokenize.wordpunct_tokenize(sent2.lower())\n",
        "  sent2 = [word for word in sent2 if word not in set(stopwords)]\n",
        "  # print(sent2)\n",
        "  v1 = wv.get_mean_vector(sent1)\n",
        "  v2 = wv.get_mean_vector(sent2)\n",
        "\n",
        "  return (v1 @ v2)/(np.linalg.norm(v1) * np.linalg.norm(v2))"
      ],
      "metadata": {
        "id": "-vR652YIMuyt"
      },
      "execution_count": 69,
      "outputs": []
    },
    {
      "cell_type": "code",
      "source": [
        "similarity_scorer_with_stopwords(example_para1, example_para3)"
      ],
      "metadata": {
        "colab": {
          "base_uri": "https://localhost:8080/"
        },
        "id": "9uonxsH_NDcg",
        "outputId": "4fd387c9-02d0-4fa6-d13d-fe2928bfe631"
      },
      "execution_count": 70,
      "outputs": [
        {
          "output_type": "execute_result",
          "data": {
            "text/plain": [
              "0.5398682"
            ]
          },
          "metadata": {},
          "execution_count": 70
        }
      ]
    },
    {
      "cell_type": "code",
      "source": [
        "similarity_scorer_with_stopwords(example_para1, example_para2)"
      ],
      "metadata": {
        "colab": {
          "base_uri": "https://localhost:8080/"
        },
        "id": "PcbGMbD6NGzc",
        "outputId": "b75329b9-f360-44ee-eeed-f19bdac858be"
      },
      "execution_count": 71,
      "outputs": [
        {
          "output_type": "execute_result",
          "data": {
            "text/plain": [
              "0.8783584"
            ]
          },
          "metadata": {},
          "execution_count": 71
        }
      ]
    },
    {
      "cell_type": "code",
      "source": [
        "nltk.download('averaged_perceptron_tagger_eng')"
      ],
      "metadata": {
        "colab": {
          "base_uri": "https://localhost:8080/"
        },
        "id": "b1sScjwQSUGm",
        "outputId": "c97f4095-74db-425a-f82b-c9dba0e0bcc2"
      },
      "execution_count": 72,
      "outputs": [
        {
          "output_type": "stream",
          "name": "stderr",
          "text": [
            "[nltk_data] Downloading package averaged_perceptron_tagger_eng to\n",
            "[nltk_data]     /root/nltk_data...\n",
            "[nltk_data]   Package averaged_perceptron_tagger_eng is already up-to-\n",
            "[nltk_data]       date!\n"
          ]
        },
        {
          "output_type": "execute_result",
          "data": {
            "text/plain": [
              "True"
            ]
          },
          "metadata": {},
          "execution_count": 72
        }
      ]
    },
    {
      "cell_type": "code",
      "source": [
        "[word for word in nltk.tokenize.wordpunct_tokenize(sent1.lower()) if word not in set(stopwords)]"
      ],
      "metadata": {
        "colab": {
          "base_uri": "https://localhost:8080/"
        },
        "id": "bo0iDmp6Sywc",
        "outputId": "67d99653-f03f-48d9-d984-19bb301d9ec6"
      },
      "execution_count": 68,
      "outputs": [
        {
          "output_type": "execute_result",
          "data": {
            "text/plain": [
              "['weather',\n",
              " 'pretty',\n",
              " 'good',\n",
              " 'today',\n",
              " ',',\n",
              " 'looks',\n",
              " 'like',\n",
              " \"'\",\n",
              " 'going',\n",
              " 'rain']"
            ]
          },
          "metadata": {},
          "execution_count": 68
        }
      ]
    },
    {
      "cell_type": "code",
      "source": [
        "nltk.pos_tag(sent1.split(' '))"
      ],
      "metadata": {
        "colab": {
          "base_uri": "https://localhost:8080/"
        },
        "id": "aFXuKz1lSKCs",
        "outputId": "396562ce-3753-4055-d026-820bd27013a6"
      },
      "execution_count": 66,
      "outputs": [
        {
          "output_type": "execute_result",
          "data": {
            "text/plain": [
              "[('The', 'DT'),\n",
              " ('weather', 'NN'),\n",
              " ('is', 'VBZ'),\n",
              " ('pretty', 'RB'),\n",
              " ('good', 'JJ'),\n",
              " ('today,', 'NN'),\n",
              " ('looks', 'NNS'),\n",
              " ('like', 'IN'),\n",
              " (\"it's\", 'NN'),\n",
              " ('going', 'VBG'),\n",
              " ('to', 'TO'),\n",
              " ('rain', 'VB')]"
            ]
          },
          "metadata": {},
          "execution_count": 66
        }
      ]
    },
    {
      "cell_type": "code",
      "source": [
        "from nltk.stem import WordNetLemmatizer"
      ],
      "metadata": {
        "id": "_tagRliATQOX"
      },
      "execution_count": 73,
      "outputs": []
    },
    {
      "cell_type": "code",
      "source": [
        "lemmatizer = WordNetLemmatizer()"
      ],
      "metadata": {
        "id": "hzDkYomATXE3"
      },
      "execution_count": 74,
      "outputs": []
    },
    {
      "cell_type": "code",
      "source": [
        "nltk.download('wordnet')"
      ],
      "metadata": {
        "colab": {
          "base_uri": "https://localhost:8080/"
        },
        "id": "pOj5esmJTlWZ",
        "outputId": "b38d8961-de23-4951-f0bb-861aec228e52"
      },
      "execution_count": 76,
      "outputs": [
        {
          "output_type": "stream",
          "name": "stderr",
          "text": [
            "[nltk_data] Downloading package wordnet to /root/nltk_data...\n"
          ]
        },
        {
          "output_type": "execute_result",
          "data": {
            "text/plain": [
              "True"
            ]
          },
          "metadata": {},
          "execution_count": 76
        }
      ]
    },
    {
      "cell_type": "code",
      "source": [
        "for word in [word for word in nltk.tokenize.word_tokenize(sent1.lower()) if word not in set(stopwords)]:\n",
        "  print(lemmatizer.lemmatize(word, 'v'))"
      ],
      "metadata": {
        "colab": {
          "base_uri": "https://localhost:8080/"
        },
        "id": "Oplu14OvTe45",
        "outputId": "32f22f3f-1d24-4041-dd6e-015fddcaad1c"
      },
      "execution_count": 79,
      "outputs": [
        {
          "output_type": "stream",
          "name": "stdout",
          "text": [
            "weather\n",
            "pretty\n",
            "good\n",
            "today\n",
            ",\n",
            "look\n",
            "like\n",
            "'s\n",
            "go\n",
            "rain\n"
          ]
        }
      ]
    },
    {
      "cell_type": "code",
      "source": [
        "similarity_scorer(\"It is raining today\", \"It rained yesterday\")"
      ],
      "metadata": {
        "colab": {
          "base_uri": "https://localhost:8080/"
        },
        "id": "Epge-iaBTWSE",
        "outputId": "ac8db0ea-95b5-44d0-e935-6e422afcc07c"
      },
      "execution_count": 80,
      "outputs": [
        {
          "output_type": "execute_result",
          "data": {
            "text/plain": [
              "0.7488374"
            ]
          },
          "metadata": {},
          "execution_count": 80
        }
      ]
    },
    {
      "cell_type": "code",
      "source": [
        "similarity_scorer_with_stopwords(\"It is raining today\", \"It rained yesterday\")"
      ],
      "metadata": {
        "colab": {
          "base_uri": "https://localhost:8080/"
        },
        "id": "kvoz6ByLULbj",
        "outputId": "e0946322-f570-419f-b303-ba1210877d95"
      },
      "execution_count": 81,
      "outputs": [
        {
          "output_type": "execute_result",
          "data": {
            "text/plain": [
              "0.6985125"
            ]
          },
          "metadata": {},
          "execution_count": 81
        }
      ]
    },
    {
      "cell_type": "code",
      "source": [
        "def tense_indifferent_sim_scorer(sent1, sent2):\n",
        "  \"\"\"IDEA: PLAG CHECKING JUST THE CONTENT, FORGETTING ABOUT THE TENSE OF THE STORY/PARAGRAPH\"\"\"\n",
        "  sent1 = nltk.tokenize.wordpunct_tokenize(sent1)\n",
        "  sent1 = [lemmatizer.lemmatize(word, 'v') for word in sent1 if word not in set(stopwords)]\n",
        "  # print(sent1)\n",
        "  sent2 = nltk.tokenize.wordpunct_tokenize(sent2)\n",
        "  sent2 = [lemmatizer.lemmatize(word, 'v') for word in sent2 if word not in set(stopwords)]\n",
        "  # print(sent2)\n",
        "  v1 = wv.get_mean_vector(sent1)\n",
        "  v2 = wv.get_mean_vector(sent2)\n",
        "\n",
        "  return (v1 @ v2)/(np.linalg.norm(v1) * np.linalg.norm(v2))"
      ],
      "metadata": {
        "id": "UJrdKOu2UOPY"
      },
      "execution_count": 84,
      "outputs": []
    },
    {
      "cell_type": "code",
      "source": [
        "tense_indifferent_sim_scorer(sent1, sent2)"
      ],
      "metadata": {
        "colab": {
          "base_uri": "https://localhost:8080/"
        },
        "id": "gwTL3BiJUouk",
        "outputId": "49126d58-364b-4f47-b1d9-eae60737aac3"
      },
      "execution_count": 85,
      "outputs": [
        {
          "output_type": "execute_result",
          "data": {
            "text/plain": [
              "0.6505004"
            ]
          },
          "metadata": {},
          "execution_count": 85
        }
      ]
    },
    {
      "cell_type": "code",
      "source": [
        "tense_indifferent_sim_scorer(\"It is raining today\", \"It rained yesterday\")"
      ],
      "metadata": {
        "colab": {
          "base_uri": "https://localhost:8080/"
        },
        "id": "babfscjmUqeQ",
        "outputId": "42723075-7fd6-4c1e-e576-8bd88712d109"
      },
      "execution_count": 86,
      "outputs": [
        {
          "output_type": "execute_result",
          "data": {
            "text/plain": [
              "0.89291936"
            ]
          },
          "metadata": {},
          "execution_count": 86
        }
      ]
    },
    {
      "cell_type": "code",
      "source": [
        "def similarity_scorer_with_stopwords_custom(sent1, sent2, reqd_stopwords):\n",
        "  \"\"\"IDEA: Stating which stopwords to keep as an argument, e.g. 'not' if it really is needed\"\"\"\n",
        "  stopwords_temp = set(reqd_stopwords)\n",
        "  stopwords_temp = (set(stopwords)).difference(stopwords_temp)\n",
        "\n",
        "  sent1 = nltk.tokenize.wordpunct_tokenize(sent1.lower())\n",
        "  sent1 = [word for word in sent1 if word not in set(stopwords_temp)]\n",
        "  # print(sent1)\n",
        "  sent2 = nltk.tokenize.wordpunct_tokenize(sent2.lower())\n",
        "  sent2 = [word for word in sent2 if word not in set(stopwords_temp)]\n",
        "  # print(sent2)\n",
        "  v1 = wv.get_mean_vector(sent1)\n",
        "  v2 = wv.get_mean_vector(sent2)\n",
        "  return (v1 @ v2)/(np.linalg.norm(v1) * np.linalg.norm(v2))"
      ],
      "metadata": {
        "id": "Od-55a8YUwme"
      },
      "execution_count": 97,
      "outputs": []
    },
    {
      "cell_type": "code",
      "source": [
        "similarity_scorer_with_stopwords_custom(\"It is raining today\", \"It is not raining today\", ['not'])"
      ],
      "metadata": {
        "colab": {
          "base_uri": "https://localhost:8080/"
        },
        "id": "ND1kA3VwU1mr",
        "outputId": "f6b6f646-cba1-45c8-cf34-6f5b45f6d182"
      },
      "execution_count": 95,
      "outputs": [
        {
          "output_type": "execute_result",
          "data": {
            "text/plain": [
              "0.8845246"
            ]
          },
          "metadata": {},
          "execution_count": 95
        }
      ]
    },
    {
      "cell_type": "code",
      "source": [
        "tense_indifferent_sim_scorer(\"It is raining today\", \"It is not raining today\")"
      ],
      "metadata": {
        "colab": {
          "base_uri": "https://localhost:8080/"
        },
        "id": "CA_7h8rLVnPg",
        "outputId": "c4982eda-bd92-4cc7-c42a-d884c6a21c08"
      },
      "execution_count": 96,
      "outputs": [
        {
          "output_type": "execute_result",
          "data": {
            "text/plain": [
              "1.0000001"
            ]
          },
          "metadata": {},
          "execution_count": 96
        }
      ]
    },
    {
      "cell_type": "code",
      "source": [
        "sent1 = \"The man is a cheat. He manipulates his way into making a lot of money. He was, is, and will always be a cheater\"\n",
        "sent2 = \"That man is a cheat. He misguides people to make money. He is a perpetual cheater\""
      ],
      "metadata": {
        "id": "BX82Me5EWsnH"
      },
      "execution_count": 104,
      "outputs": []
    },
    {
      "cell_type": "code",
      "source": [
        "similarity_scorer(sent1, sent2)"
      ],
      "metadata": {
        "colab": {
          "base_uri": "https://localhost:8080/"
        },
        "id": "Ksnkez1pWq9_",
        "outputId": "1acea6c8-6897-4094-cc30-68a664f50270"
      },
      "execution_count": 105,
      "outputs": [
        {
          "output_type": "execute_result",
          "data": {
            "text/plain": [
              "0.90623426"
            ]
          },
          "metadata": {},
          "execution_count": 105
        }
      ]
    },
    {
      "cell_type": "code",
      "source": [
        "similarity_scorer_with_stopwords(sent1, sent2)"
      ],
      "metadata": {
        "colab": {
          "base_uri": "https://localhost:8080/"
        },
        "id": "yiAXcDH6W-UW",
        "outputId": "8730ce81-88e0-4511-8847-73fc1c04545a"
      },
      "execution_count": 106,
      "outputs": [
        {
          "output_type": "execute_result",
          "data": {
            "text/plain": [
              "0.82703936"
            ]
          },
          "metadata": {},
          "execution_count": 106
        }
      ]
    },
    {
      "cell_type": "code",
      "source": [
        "tense_indifferent_sim_scorer(sent1, sent2)"
      ],
      "metadata": {
        "colab": {
          "base_uri": "https://localhost:8080/"
        },
        "id": "Hm5peIJjXNgd",
        "outputId": "d8966742-dfc4-4127-d708-b113735889bb"
      },
      "execution_count": 107,
      "outputs": [
        {
          "output_type": "execute_result",
          "data": {
            "text/plain": [
              "0.91168547"
            ]
          },
          "metadata": {},
          "execution_count": 107
        }
      ]
    },
    {
      "cell_type": "code",
      "source": [],
      "metadata": {
        "id": "JRzKFdp9XT1y"
      },
      "execution_count": null,
      "outputs": []
    }
  ],
  "metadata": {
    "colab": {
      "provenance": []
    },
    "kernelspec": {
      "display_name": "Python 3",
      "name": "python3"
    }
  },
  "nbformat": 4,
  "nbformat_minor": 0
}